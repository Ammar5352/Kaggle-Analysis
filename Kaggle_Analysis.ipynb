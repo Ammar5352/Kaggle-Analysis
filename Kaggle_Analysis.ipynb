{
 "cells": [
  {
   "cell_type": "markdown",
   "id": "261b3c76",
   "metadata": {},
   "source": [
    "# Kaggle Dataset Analysis"
   ]
  },
  {
   "cell_type": "markdown",
   "id": "2d03725e",
   "metadata": {},
   "source": [
    "## Importing Modules"
   ]
  },
  {
   "cell_type": "code",
   "execution_count": 1,
   "id": "0e873300",
   "metadata": {},
   "outputs": [],
   "source": [
    "import pandas as pd\n",
    "import numpy as np\n",
    "import matplotlib.pyplot as plt\n",
    "import seaborn as sns"
   ]
  },
  {
   "cell_type": "markdown",
   "id": "08e19614",
   "metadata": {},
   "source": [
    "## Importing dataset"
   ]
  },
  {
   "cell_type": "code",
   "execution_count": 2,
   "id": "9dc711fd",
   "metadata": {},
   "outputs": [],
   "source": [
    "df = pd.read_csv(r'D:\\data analysis\\Kaggle Analysis\\kaggle-raw.csv')"
   ]
  },
  {
   "cell_type": "markdown",
   "id": "57f9dd95",
   "metadata": {},
   "source": [
    "## Data Preprocessing and Cleaning"
   ]
  },
  {
   "cell_type": "code",
   "execution_count": 3,
   "id": "7355a9bb",
   "metadata": {},
   "outputs": [],
   "source": [
    "df.drop(['Unnamed: 0'],axis=1,inplace=True)"
   ]
  },
  {
   "cell_type": "code",
   "execution_count": 4,
   "id": "bb58eecd",
   "metadata": {},
   "outputs": [
    {
     "data": {
      "text/html": [
       "<div>\n",
       "<style scoped>\n",
       "    .dataframe tbody tr th:only-of-type {\n",
       "        vertical-align: middle;\n",
       "    }\n",
       "\n",
       "    .dataframe tbody tr th {\n",
       "        vertical-align: top;\n",
       "    }\n",
       "\n",
       "    .dataframe thead th {\n",
       "        text-align: right;\n",
       "    }\n",
       "</style>\n",
       "<table border=\"1\" class=\"dataframe\">\n",
       "  <thead>\n",
       "    <tr style=\"text-align: right;\">\n",
       "      <th></th>\n",
       "      <th>Dataset_name</th>\n",
       "      <th>Author_name</th>\n",
       "      <th>Author_id</th>\n",
       "      <th>No_of_files</th>\n",
       "      <th>size</th>\n",
       "      <th>Type_of_file</th>\n",
       "      <th>Upvotes</th>\n",
       "      <th>Medals</th>\n",
       "      <th>Usability</th>\n",
       "      <th>Date</th>\n",
       "      <th>Day</th>\n",
       "      <th>Time</th>\n",
       "      <th>Dataset_link</th>\n",
       "      <th>Image_link</th>\n",
       "    </tr>\n",
       "  </thead>\n",
       "  <tbody>\n",
       "    <tr>\n",
       "      <th>0</th>\n",
       "      <td>Hotel Reservations Dataset</td>\n",
       "      <td>Ahsan Raza</td>\n",
       "      <td>https://www.kaggle.com/ahsan81</td>\n",
       "      <td>1</td>\n",
       "      <td>491 kB</td>\n",
       "      <td>CSV</td>\n",
       "      <td>315</td>\n",
       "      <td>Silver</td>\n",
       "      <td>10.0</td>\n",
       "      <td>1/04/2023</td>\n",
       "      <td>Wed</td>\n",
       "      <td>18:20:31</td>\n",
       "      <td>https://www.kaggle.com/datasets/ahsan81/hotel-...</td>\n",
       "      <td>https://storage.googleapis.com/kaggle-datasets...</td>\n",
       "    </tr>\n",
       "    <tr>\n",
       "      <th>1</th>\n",
       "      <td>MusicCaps</td>\n",
       "      <td>Google Research</td>\n",
       "      <td>NaN</td>\n",
       "      <td>1</td>\n",
       "      <td>812 kB</td>\n",
       "      <td>CSV</td>\n",
       "      <td>188</td>\n",
       "      <td>Silver</td>\n",
       "      <td>9.4</td>\n",
       "      <td>1/25/2023</td>\n",
       "      <td>Wed</td>\n",
       "      <td>14:55:48</td>\n",
       "      <td>https://www.kaggle.com/datasets/googleai/music...</td>\n",
       "      <td>https://storage.googleapis.com/kaggle-datasets...</td>\n",
       "    </tr>\n",
       "    <tr>\n",
       "      <th>2</th>\n",
       "      <td>Most Subscribed 1000 Youtube Channels</td>\n",
       "      <td>Mrityunjay Pathak</td>\n",
       "      <td>https://www.kaggle.com/themrityunjaypathak</td>\n",
       "      <td>1</td>\n",
       "      <td>29 kB</td>\n",
       "      <td>CSV</td>\n",
       "      <td>76</td>\n",
       "      <td>Bronze</td>\n",
       "      <td>10.0</td>\n",
       "      <td>1/21/2023</td>\n",
       "      <td>Sat</td>\n",
       "      <td>20:12:05</td>\n",
       "      <td>https://www.kaggle.com/datasets/themrityunjayp...</td>\n",
       "      <td>https://storage.googleapis.com/kaggle-datasets...</td>\n",
       "    </tr>\n",
       "    <tr>\n",
       "      <th>3</th>\n",
       "      <td>Olympics 124 years Dataset(till 2020)</td>\n",
       "      <td>Nitish Sharma01</td>\n",
       "      <td>https://www.kaggle.com/nitishsharma01</td>\n",
       "      <td>3</td>\n",
       "      <td>5 MB</td>\n",
       "      <td>CSV</td>\n",
       "      <td>30</td>\n",
       "      <td>Bronze</td>\n",
       "      <td>10.0</td>\n",
       "      <td>2/01/2023</td>\n",
       "      <td>Wed</td>\n",
       "      <td>14:30:49</td>\n",
       "      <td>https://www.kaggle.com/datasets/nitishsharma01...</td>\n",
       "      <td>https://storage.googleapis.com/kaggle-datasets...</td>\n",
       "    </tr>\n",
       "    <tr>\n",
       "      <th>4</th>\n",
       "      <td>Medical Student Mental Health</td>\n",
       "      <td>The Devastator</td>\n",
       "      <td>https://www.kaggle.com/thedevastator</td>\n",
       "      <td>2</td>\n",
       "      <td>19 kB</td>\n",
       "      <td>CSV</td>\n",
       "      <td>37</td>\n",
       "      <td>Bronze</td>\n",
       "      <td>10.0</td>\n",
       "      <td>1/25/2023</td>\n",
       "      <td>Wed</td>\n",
       "      <td>06:30:14</td>\n",
       "      <td>https://www.kaggle.com/datasets/thedevastator/...</td>\n",
       "      <td>https://storage.googleapis.com/kaggle-datasets...</td>\n",
       "    </tr>\n",
       "  </tbody>\n",
       "</table>\n",
       "</div>"
      ],
      "text/plain": [
       "                            Dataset_name        Author_name  \\\n",
       "0             Hotel Reservations Dataset         Ahsan Raza   \n",
       "1                              MusicCaps    Google Research   \n",
       "2  Most Subscribed 1000 Youtube Channels  Mrityunjay Pathak   \n",
       "3  Olympics 124 years Dataset(till 2020)    Nitish Sharma01   \n",
       "4          Medical Student Mental Health     The Devastator   \n",
       "\n",
       "                                    Author_id No_of_files    size  \\\n",
       "0              https://www.kaggle.com/ahsan81           1  491 kB   \n",
       "1                                         NaN           1  812 kB   \n",
       "2  https://www.kaggle.com/themrityunjaypathak           1   29 kB   \n",
       "3       https://www.kaggle.com/nitishsharma01           3    5 MB   \n",
       "4        https://www.kaggle.com/thedevastator           2   19 kB   \n",
       "\n",
       "  Type_of_file  Upvotes  Medals  Usability       Date  Day      Time  \\\n",
       "0          CSV      315  Silver       10.0  1/04/2023  Wed  18:20:31   \n",
       "1          CSV      188  Silver        9.4  1/25/2023  Wed  14:55:48   \n",
       "2          CSV       76  Bronze       10.0  1/21/2023  Sat  20:12:05   \n",
       "3          CSV       30  Bronze       10.0  2/01/2023  Wed  14:30:49   \n",
       "4          CSV       37  Bronze       10.0  1/25/2023  Wed  06:30:14   \n",
       "\n",
       "                                        Dataset_link  \\\n",
       "0  https://www.kaggle.com/datasets/ahsan81/hotel-...   \n",
       "1  https://www.kaggle.com/datasets/googleai/music...   \n",
       "2  https://www.kaggle.com/datasets/themrityunjayp...   \n",
       "3  https://www.kaggle.com/datasets/nitishsharma01...   \n",
       "4  https://www.kaggle.com/datasets/thedevastator/...   \n",
       "\n",
       "                                          Image_link  \n",
       "0  https://storage.googleapis.com/kaggle-datasets...  \n",
       "1  https://storage.googleapis.com/kaggle-datasets...  \n",
       "2  https://storage.googleapis.com/kaggle-datasets...  \n",
       "3  https://storage.googleapis.com/kaggle-datasets...  \n",
       "4  https://storage.googleapis.com/kaggle-datasets...  "
      ]
     },
     "execution_count": 4,
     "metadata": {},
     "output_type": "execute_result"
    }
   ],
   "source": [
    "df.head()"
   ]
  },
  {
   "cell_type": "code",
   "execution_count": 5,
   "id": "13e55888",
   "metadata": {},
   "outputs": [
    {
     "data": {
      "text/plain": [
       "Index(['Dataset_name', 'Author_name', 'Author_id', 'No_of_files', 'size',\n",
       "       'Type_of_file', 'Upvotes', 'Medals', 'Usability', 'Date', 'Day', 'Time',\n",
       "       'Dataset_link', 'Image_link'],\n",
       "      dtype='object')"
      ]
     },
     "execution_count": 5,
     "metadata": {},
     "output_type": "execute_result"
    }
   ],
   "source": [
    "df.columns"
   ]
  },
  {
   "cell_type": "code",
   "execution_count": 6,
   "id": "a7b54e4a",
   "metadata": {},
   "outputs": [
    {
     "data": {
      "text/plain": [
       "Dataset_name     object\n",
       "Author_name      object\n",
       "Author_id        object\n",
       "No_of_files      object\n",
       "size             object\n",
       "Type_of_file     object\n",
       "Upvotes           int64\n",
       "Medals           object\n",
       "Usability       float64\n",
       "Date             object\n",
       "Day              object\n",
       "Time             object\n",
       "Dataset_link     object\n",
       "Image_link       object\n",
       "dtype: object"
      ]
     },
     "execution_count": 6,
     "metadata": {},
     "output_type": "execute_result"
    }
   ],
   "source": [
    "df.dtypes"
   ]
  },
  {
   "cell_type": "code",
   "execution_count": 7,
   "id": "0d7387d9",
   "metadata": {},
   "outputs": [],
   "source": [
    "df.drop(['Dataset_link','Image_link'],axis=1,inplace=True)"
   ]
  },
  {
   "cell_type": "code",
   "execution_count": 8,
   "id": "916b8fd2",
   "metadata": {},
   "outputs": [
    {
     "data": {
      "text/plain": [
       "Medals          3791\n",
       "size             493\n",
       "Author_id        352\n",
       "Type_of_file       2\n",
       "Usability          1\n",
       "Dataset_name       0\n",
       "Author_name        0\n",
       "No_of_files        0\n",
       "Upvotes            0\n",
       "Date               0\n",
       "Day                0\n",
       "Time               0\n",
       "dtype: int64"
      ]
     },
     "execution_count": 8,
     "metadata": {},
     "output_type": "execute_result"
    }
   ],
   "source": [
    "df.isnull().sum().sort_values(ascending=False)"
   ]
  },
  {
   "cell_type": "code",
   "execution_count": 9,
   "id": "75f299f3",
   "metadata": {},
   "outputs": [
    {
     "data": {
      "text/plain": [
       "Dataset_name     object\n",
       "Author_name      object\n",
       "Author_id        object\n",
       "No_of_files      object\n",
       "size             object\n",
       "Type_of_file     object\n",
       "Upvotes           int64\n",
       "Medals           object\n",
       "Usability       float64\n",
       "Date             object\n",
       "Day              object\n",
       "Time             object\n",
       "dtype: object"
      ]
     },
     "execution_count": 9,
     "metadata": {},
     "output_type": "execute_result"
    }
   ],
   "source": [
    "df.dtypes"
   ]
  },
  {
   "cell_type": "code",
   "execution_count": null,
   "id": "f50638f1",
   "metadata": {},
   "outputs": [],
   "source": []
  },
  {
   "cell_type": "code",
   "execution_count": 10,
   "id": "4a97e464",
   "metadata": {},
   "outputs": [],
   "source": [
    "df['No_of_files']=pd.to_numeric(df.No_of_files,errors='coerce')"
   ]
  },
  {
   "cell_type": "code",
   "execution_count": 11,
   "id": "fe42a37c",
   "metadata": {},
   "outputs": [],
   "source": [
    "df['Date']=pd.to_datetime(df.Date,errors='coerce')"
   ]
  },
  {
   "cell_type": "code",
   "execution_count": 12,
   "id": "5b5e74c0",
   "metadata": {},
   "outputs": [],
   "source": [
    "df['Year']=df['Date'].apply(lambda x:x.year)"
   ]
  },
  {
   "cell_type": "code",
   "execution_count": 13,
   "id": "66e72f3a",
   "metadata": {},
   "outputs": [],
   "source": [
    "df['Month']=df['Date'].apply(lambda x:x.month)"
   ]
  },
  {
   "cell_type": "code",
   "execution_count": 14,
   "id": "dad2268a",
   "metadata": {
    "scrolled": true
   },
   "outputs": [
    {
     "data": {
      "text/html": [
       "<div>\n",
       "<style scoped>\n",
       "    .dataframe tbody tr th:only-of-type {\n",
       "        vertical-align: middle;\n",
       "    }\n",
       "\n",
       "    .dataframe tbody tr th {\n",
       "        vertical-align: top;\n",
       "    }\n",
       "\n",
       "    .dataframe thead th {\n",
       "        text-align: right;\n",
       "    }\n",
       "</style>\n",
       "<table border=\"1\" class=\"dataframe\">\n",
       "  <thead>\n",
       "    <tr style=\"text-align: right;\">\n",
       "      <th></th>\n",
       "      <th>Dataset_name</th>\n",
       "      <th>Author_name</th>\n",
       "      <th>Author_id</th>\n",
       "      <th>No_of_files</th>\n",
       "      <th>size</th>\n",
       "      <th>Type_of_file</th>\n",
       "      <th>Upvotes</th>\n",
       "      <th>Medals</th>\n",
       "      <th>Usability</th>\n",
       "      <th>Date</th>\n",
       "      <th>Day</th>\n",
       "      <th>Time</th>\n",
       "      <th>Year</th>\n",
       "      <th>Month</th>\n",
       "    </tr>\n",
       "  </thead>\n",
       "  <tbody>\n",
       "    <tr>\n",
       "      <th>0</th>\n",
       "      <td>Hotel Reservations Dataset</td>\n",
       "      <td>Ahsan Raza</td>\n",
       "      <td>https://www.kaggle.com/ahsan81</td>\n",
       "      <td>1.0</td>\n",
       "      <td>491 kB</td>\n",
       "      <td>CSV</td>\n",
       "      <td>315</td>\n",
       "      <td>Silver</td>\n",
       "      <td>10.0</td>\n",
       "      <td>2023-01-04</td>\n",
       "      <td>Wed</td>\n",
       "      <td>18:20:31</td>\n",
       "      <td>2023</td>\n",
       "      <td>1</td>\n",
       "    </tr>\n",
       "    <tr>\n",
       "      <th>1</th>\n",
       "      <td>MusicCaps</td>\n",
       "      <td>Google Research</td>\n",
       "      <td>NaN</td>\n",
       "      <td>1.0</td>\n",
       "      <td>812 kB</td>\n",
       "      <td>CSV</td>\n",
       "      <td>188</td>\n",
       "      <td>Silver</td>\n",
       "      <td>9.4</td>\n",
       "      <td>2023-01-25</td>\n",
       "      <td>Wed</td>\n",
       "      <td>14:55:48</td>\n",
       "      <td>2023</td>\n",
       "      <td>1</td>\n",
       "    </tr>\n",
       "    <tr>\n",
       "      <th>2</th>\n",
       "      <td>Most Subscribed 1000 Youtube Channels</td>\n",
       "      <td>Mrityunjay Pathak</td>\n",
       "      <td>https://www.kaggle.com/themrityunjaypathak</td>\n",
       "      <td>1.0</td>\n",
       "      <td>29 kB</td>\n",
       "      <td>CSV</td>\n",
       "      <td>76</td>\n",
       "      <td>Bronze</td>\n",
       "      <td>10.0</td>\n",
       "      <td>2023-01-21</td>\n",
       "      <td>Sat</td>\n",
       "      <td>20:12:05</td>\n",
       "      <td>2023</td>\n",
       "      <td>1</td>\n",
       "    </tr>\n",
       "    <tr>\n",
       "      <th>3</th>\n",
       "      <td>Olympics 124 years Dataset(till 2020)</td>\n",
       "      <td>Nitish Sharma01</td>\n",
       "      <td>https://www.kaggle.com/nitishsharma01</td>\n",
       "      <td>3.0</td>\n",
       "      <td>5 MB</td>\n",
       "      <td>CSV</td>\n",
       "      <td>30</td>\n",
       "      <td>Bronze</td>\n",
       "      <td>10.0</td>\n",
       "      <td>2023-02-01</td>\n",
       "      <td>Wed</td>\n",
       "      <td>14:30:49</td>\n",
       "      <td>2023</td>\n",
       "      <td>2</td>\n",
       "    </tr>\n",
       "    <tr>\n",
       "      <th>4</th>\n",
       "      <td>Medical Student Mental Health</td>\n",
       "      <td>The Devastator</td>\n",
       "      <td>https://www.kaggle.com/thedevastator</td>\n",
       "      <td>2.0</td>\n",
       "      <td>19 kB</td>\n",
       "      <td>CSV</td>\n",
       "      <td>37</td>\n",
       "      <td>Bronze</td>\n",
       "      <td>10.0</td>\n",
       "      <td>2023-01-25</td>\n",
       "      <td>Wed</td>\n",
       "      <td>06:30:14</td>\n",
       "      <td>2023</td>\n",
       "      <td>1</td>\n",
       "    </tr>\n",
       "  </tbody>\n",
       "</table>\n",
       "</div>"
      ],
      "text/plain": [
       "                            Dataset_name        Author_name  \\\n",
       "0             Hotel Reservations Dataset         Ahsan Raza   \n",
       "1                              MusicCaps    Google Research   \n",
       "2  Most Subscribed 1000 Youtube Channels  Mrityunjay Pathak   \n",
       "3  Olympics 124 years Dataset(till 2020)    Nitish Sharma01   \n",
       "4          Medical Student Mental Health     The Devastator   \n",
       "\n",
       "                                    Author_id  No_of_files    size  \\\n",
       "0              https://www.kaggle.com/ahsan81          1.0  491 kB   \n",
       "1                                         NaN          1.0  812 kB   \n",
       "2  https://www.kaggle.com/themrityunjaypathak          1.0   29 kB   \n",
       "3       https://www.kaggle.com/nitishsharma01          3.0    5 MB   \n",
       "4        https://www.kaggle.com/thedevastator          2.0   19 kB   \n",
       "\n",
       "  Type_of_file  Upvotes  Medals  Usability       Date  Day      Time  Year  \\\n",
       "0          CSV      315  Silver       10.0 2023-01-04  Wed  18:20:31  2023   \n",
       "1          CSV      188  Silver        9.4 2023-01-25  Wed  14:55:48  2023   \n",
       "2          CSV       76  Bronze       10.0 2023-01-21  Sat  20:12:05  2023   \n",
       "3          CSV       30  Bronze       10.0 2023-02-01  Wed  14:30:49  2023   \n",
       "4          CSV       37  Bronze       10.0 2023-01-25  Wed  06:30:14  2023   \n",
       "\n",
       "   Month  \n",
       "0      1  \n",
       "1      1  \n",
       "2      1  \n",
       "3      2  \n",
       "4      1  "
      ]
     },
     "execution_count": 14,
     "metadata": {},
     "output_type": "execute_result"
    }
   ],
   "source": [
    "df.head()"
   ]
  },
  {
   "cell_type": "code",
   "execution_count": 15,
   "id": "88341c1a",
   "metadata": {},
   "outputs": [
    {
     "data": {
      "text/html": [
       "<div>\n",
       "<style scoped>\n",
       "    .dataframe tbody tr th:only-of-type {\n",
       "        vertical-align: middle;\n",
       "    }\n",
       "\n",
       "    .dataframe tbody tr th {\n",
       "        vertical-align: top;\n",
       "    }\n",
       "\n",
       "    .dataframe thead th {\n",
       "        text-align: right;\n",
       "    }\n",
       "</style>\n",
       "<table border=\"1\" class=\"dataframe\">\n",
       "  <thead>\n",
       "    <tr style=\"text-align: right;\">\n",
       "      <th></th>\n",
       "      <th>count</th>\n",
       "      <th>mean</th>\n",
       "      <th>std</th>\n",
       "      <th>min</th>\n",
       "      <th>25%</th>\n",
       "      <th>50%</th>\n",
       "      <th>75%</th>\n",
       "      <th>max</th>\n",
       "    </tr>\n",
       "  </thead>\n",
       "  <tbody>\n",
       "    <tr>\n",
       "      <th>No_of_files</th>\n",
       "      <td>9939.0</td>\n",
       "      <td>5503.204347</td>\n",
       "      <td>57125.368023</td>\n",
       "      <td>0.0</td>\n",
       "      <td>1.0</td>\n",
       "      <td>2.0</td>\n",
       "      <td>10.0</td>\n",
       "      <td>3999566.0</td>\n",
       "    </tr>\n",
       "    <tr>\n",
       "      <th>Upvotes</th>\n",
       "      <td>9971.0</td>\n",
       "      <td>81.977234</td>\n",
       "      <td>406.008357</td>\n",
       "      <td>0.0</td>\n",
       "      <td>7.0</td>\n",
       "      <td>24.0</td>\n",
       "      <td>54.0</td>\n",
       "      <td>27619.0</td>\n",
       "    </tr>\n",
       "    <tr>\n",
       "      <th>Usability</th>\n",
       "      <td>9970.0</td>\n",
       "      <td>7.412939</td>\n",
       "      <td>2.731797</td>\n",
       "      <td>0.0</td>\n",
       "      <td>5.9</td>\n",
       "      <td>8.2</td>\n",
       "      <td>9.7</td>\n",
       "      <td>10.0</td>\n",
       "    </tr>\n",
       "    <tr>\n",
       "      <th>Year</th>\n",
       "      <td>9971.0</td>\n",
       "      <td>2020.904623</td>\n",
       "      <td>1.798983</td>\n",
       "      <td>2016.0</td>\n",
       "      <td>2020.0</td>\n",
       "      <td>2021.0</td>\n",
       "      <td>2022.0</td>\n",
       "      <td>2023.0</td>\n",
       "    </tr>\n",
       "    <tr>\n",
       "      <th>Month</th>\n",
       "      <td>9971.0</td>\n",
       "      <td>6.181827</td>\n",
       "      <td>4.034770</td>\n",
       "      <td>1.0</td>\n",
       "      <td>2.0</td>\n",
       "      <td>6.0</td>\n",
       "      <td>10.0</td>\n",
       "      <td>12.0</td>\n",
       "    </tr>\n",
       "  </tbody>\n",
       "</table>\n",
       "</div>"
      ],
      "text/plain": [
       "              count         mean           std     min     25%     50%  \\\n",
       "No_of_files  9939.0  5503.204347  57125.368023     0.0     1.0     2.0   \n",
       "Upvotes      9971.0    81.977234    406.008357     0.0     7.0    24.0   \n",
       "Usability    9970.0     7.412939      2.731797     0.0     5.9     8.2   \n",
       "Year         9971.0  2020.904623      1.798983  2016.0  2020.0  2021.0   \n",
       "Month        9971.0     6.181827      4.034770     1.0     2.0     6.0   \n",
       "\n",
       "                75%        max  \n",
       "No_of_files    10.0  3999566.0  \n",
       "Upvotes        54.0    27619.0  \n",
       "Usability       9.7       10.0  \n",
       "Year         2022.0     2023.0  \n",
       "Month          10.0       12.0  "
      ]
     },
     "execution_count": 15,
     "metadata": {},
     "output_type": "execute_result"
    }
   ],
   "source": [
    "df.describe().T"
   ]
  },
  {
   "cell_type": "code",
   "execution_count": 16,
   "id": "983c7b04",
   "metadata": {},
   "outputs": [
    {
     "data": {
      "text/plain": [
       "<AxesSubplot:>"
      ]
     },
     "execution_count": 16,
     "metadata": {},
     "output_type": "execute_result"
    },
    {
     "data": {
      "image/png": "[encoded data removed]",
      "text/plain": [
       "<Figure size 432x288 with 2 Axes>"
      ]
     },
     "metadata": {
      "needs_background": "light"
     },
     "output_type": "display_data"
    }
   ],
   "source": [
    "sns.heatmap(df.corr(),annot=True)"
   ]
  },
  {
   "cell_type": "code",
   "execution_count": 17,
   "id": "f7c1f9bf",
   "metadata": {},
   "outputs": [],
   "source": [
    "df['Dataset_name']=df['Dataset_name'].apply(lambda x:x.replace('heart-disease','Heart Disease'))"
   ]
  },
  {
   "cell_type": "code",
   "execution_count": 18,
   "id": "6c76bd08",
   "metadata": {},
   "outputs": [
    {
     "data": {
      "text/plain": [
       "Heart Disease                                  12\n",
       "Bank Marketing                                  4\n",
       "Heart Disease Dataset                           4\n",
       "Social Network Ads                              4\n",
       "Heart Disease Prediction                        4\n",
       "                                               ..\n",
       "Fraudulent E-mail Corpus                        1\n",
       "Google Scraped Image  Dataset                   1\n",
       "Acoustic Extinguisher Fire Dataset              1\n",
       "glasses                                         1\n",
       "Israeli Premier League - Team stats 2016-20     1\n",
       "Name: Dataset_name, Length: 9759, dtype: int64"
      ]
     },
     "execution_count": 18,
     "metadata": {},
     "output_type": "execute_result"
    }
   ],
   "source": [
    "df['Dataset_name'].value_counts()"
   ]
  },
  {
   "cell_type": "code",
   "execution_count": 19,
   "id": "6e71353c",
   "metadata": {},
   "outputs": [],
   "source": [
    "df['Dataset_name']=df['Dataset_name'].str.replace('Heart Disease.*','Heart Disease',regex=True)"
   ]
  },
  {
   "cell_type": "code",
   "execution_count": 20,
   "id": "a1e90232",
   "metadata": {},
   "outputs": [],
   "source": [
    "df['Dataset_name']=df['Dataset_name'].str.replace('heart disease.*','Heart Disease',regex=True)"
   ]
  },
  {
   "cell_type": "code",
   "execution_count": 21,
   "id": "f0a1c762",
   "metadata": {},
   "outputs": [],
   "source": [
    "df['Dataset_name']=df['Dataset_name'].str.replace('heart.*','Heart Disease',regex=True)"
   ]
  },
  {
   "cell_type": "code",
   "execution_count": 22,
   "id": "aa7412b4",
   "metadata": {},
   "outputs": [
    {
     "data": {
      "text/plain": [
       "Heart Disease                                  49\n",
       "Bank Marketing                                  4\n",
       "Social Network Ads                              4\n",
       "Resume Dataset                                  4\n",
       "Airline Passenger Satisfaction                  3\n",
       "                                               ..\n",
       "Face Mask Lite Dataset                          1\n",
       "Death Due to Air Pollution                      1\n",
       "Fraudulent E-mail Corpus                        1\n",
       "Google Scraped Image  Dataset                   1\n",
       "Israeli Premier League - Team stats 2016-20     1\n",
       "Name: Dataset_name, Length: 9731, dtype: int64"
      ]
     },
     "execution_count": 22,
     "metadata": {},
     "output_type": "execute_result"
    }
   ],
   "source": [
    "df['Dataset_name'].value_counts()"
   ]
  },
  {
   "cell_type": "code",
   "execution_count": 23,
   "id": "8481b2b3",
   "metadata": {},
   "outputs": [],
   "source": [
    "df['Dataset_name']=df['Dataset_name'].str.replace('Breast Cancer.*','Breast Cancer',regex=True)"
   ]
  },
  {
   "cell_type": "code",
   "execution_count": 24,
   "id": "1c43cc52",
   "metadata": {},
   "outputs": [
    {
     "data": {
      "text/plain": [
       "Heart Disease                                     49\n",
       "Breast Cancer                                     21\n",
       "RSNA Breast Cancer                                 8\n",
       "Bank Marketing                                     4\n",
       "Social Network Ads                                 4\n",
       "                                                  ..\n",
       "Road Vehicle Images Dataset                        1\n",
       "10000 Most Common Passwords                        1\n",
       "Mobile Price dataset                               1\n",
       "Predictive Maintenance: Naval Vessel Condition     1\n",
       "Israeli Premier League - Team stats 2016-20        1\n",
       "Name: Dataset_name, Length: 9706, dtype: int64"
      ]
     },
     "execution_count": 24,
     "metadata": {},
     "output_type": "execute_result"
    }
   ],
   "source": [
    "df['Dataset_name'].value_counts()"
   ]
  },
  {
   "cell_type": "code",
   "execution_count": 25,
   "id": "c4e179b7",
   "metadata": {},
   "outputs": [
    {
     "data": {
      "text/plain": [
       "Dataset_name            object\n",
       "Author_name             object\n",
       "Author_id               object\n",
       "No_of_files            float64\n",
       "size                    object\n",
       "Type_of_file            object\n",
       "Upvotes                  int64\n",
       "Medals                  object\n",
       "Usability              float64\n",
       "Date            datetime64[ns]\n",
       "Day                     object\n",
       "Time                    object\n",
       "Year                     int64\n",
       "Month                    int64\n",
       "dtype: object"
      ]
     },
     "execution_count": 25,
     "metadata": {},
     "output_type": "execute_result"
    }
   ],
   "source": [
    "df.dtypes"
   ]
  },
  {
   "cell_type": "code",
   "execution_count": 26,
   "id": "379c353e",
   "metadata": {},
   "outputs": [
    {
     "data": {
      "text/plain": [
       "array(['CSV', 'CSV, other', 'other', 'other, JSON', 'CSV, other, JSON',\n",
       "       'CSV, JSON', 'SQLITE', 'other, CSV', 'BigQuer', 'SQLITE, CSV',\n",
       "       'JSON', 'other, CSV, JSON', 'other, JSON, CSV', 'JSON, CSV', '2 G',\n",
       "       '2 M', '14 G', 'SQLITE, CSV, other', '447 M', 'JSON, CSV, other',\n",
       "       '104 M', '318 k', '41 k', '6 M', '22 M', '91 M', '450 M',\n",
       "       'CSV, SQLITE', 'JSON, other', '826 M', '54 k', '19 M', '87 k',\n",
       "       '4 G', '1 M', '22 k', '137 k', '13 G', '13 M', '12 G', '29 k',\n",
       "       '16 k', '88 M', '3 M', '464 M', '16 M', '3 G',\n",
       "       'CSV, SQLITE, other', '335 k', '405 M', '1 G', 'JSON, other, CSV',\n",
       "       '10 G', '8 M', '96 G', '27 k', '12 k', '213 M', '71 k', '72 k',\n",
       "       '706 M', '169 M', '184 M', '9 k', '661 M', '461 k', '29 M', '27 M',\n",
       "       '15 M', '658 k', '235 M', '24 k', '116 M', 'CSV, JSON, other',\n",
       "       '10 k', '293 M', '198 k', '97 M', '131 M', '657 M', '118 k',\n",
       "       '26 G', '76 k', '129 k', '770 M', '56 M', '283 k', '4 M', '77 k',\n",
       "       '68 M', '1 k', '34 M', '22 ', '173 M', '158 k', '45 k', '8 G',\n",
       "       '11 k', '142 M', '5 M', '81 M', '831 k', 'SQLITE, other', '302 M',\n",
       "       '473 k', '5 G', '107 k', 'other, SQLITE, CSV', '454 k', '319 k',\n",
       "       '549 k', '18 M', '295 M', '10 M', '15 G', '346 M', '191 M',\n",
       "       '434 M', '142 k', '448 M', '868 k', '478 M', '697 k', '454 M',\n",
       "       '428 M', '33 M', '321 k', '349 M', '8 k', '52 M', '61 M', '325 M',\n",
       "       '47 k', '18 k', '23 M', '854 M', '65 M', '358 k', '719 M', '9 M',\n",
       "       '553 k', '818 M', '79 k', '14 k', '175 M', '47 M', '20 G', '476 M',\n",
       "       '95 k', '364 k', '20 k', '104 k', '68 k', '11 M', '78 M', '370 M',\n",
       "       '19 G', '7 G', '930 ', '28 M', '287 M', '370 k', '282 k', '880 k',\n",
       "       '17 M', '219 k', nan, '85 k', '285 k', '22 G', '758 M', '197 k',\n",
       "       '190 M', '540 k', '7 k', '158 M', '847 k', '23 k', '182 k',\n",
       "       '501 M', '144 k', '21 M', '129 M', '340 M', '7 M', '50 k', '445 k',\n",
       "       '508 k', '40 k', '12 M', '45 M', '117 M', '756 M', '121 k',\n",
       "       '528 k', '677 k', '50 M', '112 k', '16 G', '2 k', '43 M', '6 G',\n",
       "       '193 M', '540 M', '741 k', '133 M', '93 M', '159 M', '385 M',\n",
       "       '113 M', '30 M', '275 k', '70 k', '87 M', '429 M', '309 k',\n",
       "       '232 k', '94 k', '318 M', '407 k', '424 M', '840 M', '40 M',\n",
       "       '301 k', '9 G', '110 k', '949 M', '922 M', '395 k', '386 k',\n",
       "       '44 k', '25 k', '880 M', 'SQLITE, other, CSV', '787 k', '89 k',\n",
       "       '350 M', '181 M', '280 M', '546 k', '35 M', '69 k', '238 M',\n",
       "       '75 k', '656 M', '6 k', '34 k', '19 k', '11 G', '374 k', '13 k',\n",
       "       '203 k', '178 M', '86 k', '154 k', '451 k', '5 k', '402 M', '86 M',\n",
       "       '103 k', '208 M', '561 k', '362 k', '226 M', '49 M', '649 M',\n",
       "       '403 k', '408 M', '38 k', '435 ', '122 k', '82 k', '114 k',\n",
       "       '254 k', '235 k', '49 k', '136 M', '105 M'], dtype=object)"
      ]
     },
     "execution_count": 26,
     "metadata": {},
     "output_type": "execute_result"
    }
   ],
   "source": [
    "df.Type_of_file.unique()"
   ]
  },
  {
   "cell_type": "code",
   "execution_count": 27,
   "id": "20e3f50b",
   "metadata": {},
   "outputs": [],
   "source": [
    "##  list direct is a list in which i have pass allowed values for filtering.\n",
    "list_direct=['CSV','JSON','SQLITE','other','BigQuer',np.nan]"
   ]
  },
  {
   "cell_type": "code",
   "execution_count": 28,
   "id": "0f504360",
   "metadata": {},
   "outputs": [],
   "source": [
    "# declaring pattern for kb\n",
    "pattern_kb='.*k'"
   ]
  },
  {
   "cell_type": "code",
   "execution_count": 29,
   "id": "a2ab0257",
   "metadata": {},
   "outputs": [],
   "source": [
    "# declaring pattern for gb\n",
    "pattern_Gb='.*G'"
   ]
  },
  {
   "cell_type": "code",
   "execution_count": 30,
   "id": "8c738a4a",
   "metadata": {},
   "outputs": [],
   "source": [
    "# declaring pattern for mb\n",
    "pattern_Mb='.*M'"
   ]
  },
  {
   "cell_type": "code",
   "execution_count": 31,
   "id": "edf04076",
   "metadata": {},
   "outputs": [],
   "source": [
    "# declaring pattern for csv\n",
    "pattern_csv='.*V'"
   ]
  },
  {
   "cell_type": "code",
   "execution_count": 32,
   "id": "e3562829",
   "metadata": {},
   "outputs": [],
   "source": [
    "# declaring pattern for json\n",
    "pattern_json='.*N'"
   ]
  },
  {
   "cell_type": "code",
   "execution_count": 33,
   "id": "8f4db745",
   "metadata": {},
   "outputs": [],
   "source": [
    "df.Type_of_file=df.Type_of_file.str.replace(pattern_kb,'CSV',regex=True)"
   ]
  },
  {
   "cell_type": "code",
   "execution_count": 34,
   "id": "45e83f38",
   "metadata": {},
   "outputs": [],
   "source": [
    "df.Type_of_file=df.Type_of_file.str.replace(pattern_Gb,'BigQuer',regex=True)"
   ]
  },
  {
   "cell_type": "code",
   "execution_count": 35,
   "id": "d613e381",
   "metadata": {},
   "outputs": [],
   "source": [
    "df.Type_of_file=df.Type_of_file.str.replace(pattern_Mb,'CSV',regex=True)"
   ]
  },
  {
   "cell_type": "code",
   "execution_count": 36,
   "id": "c7875769",
   "metadata": {},
   "outputs": [],
   "source": [
    "df.Type_of_file=df.Type_of_file.str.replace(pattern_csv,'CSV',regex=True).replace('C.*','CSV',regex=True)"
   ]
  },
  {
   "cell_type": "code",
   "execution_count": 37,
   "id": "6da981ee",
   "metadata": {},
   "outputs": [],
   "source": [
    "df.Type_of_file=df.Type_of_file.str.replace(pattern_json,'JSON',regex=True).replace('J.*','JSON',regex=True)"
   ]
  },
  {
   "cell_type": "code",
   "execution_count": 38,
   "id": "370e3d3c",
   "metadata": {},
   "outputs": [],
   "source": [
    "df.Type_of_file=df.Type_of_file.str.replace('.*her','other',regex=True).replace('o.*','other',regex=True)"
   ]
  },
  {
   "cell_type": "code",
   "execution_count": 39,
   "id": "df165a30",
   "metadata": {},
   "outputs": [
    {
     "data": {
      "text/plain": [
       "array(['CSV', 'other', 'JSON', 'SQLITE', 'BigQuer', '22 ', '930 ', nan,\n",
       "       '435 '], dtype=object)"
      ]
     },
     "execution_count": 39,
     "metadata": {},
     "output_type": "execute_result"
    }
   ],
   "source": [
    "df.Type_of_file.unique()"
   ]
  },
  {
   "cell_type": "code",
   "execution_count": 40,
   "id": "95ba6007",
   "metadata": {},
   "outputs": [],
   "source": [
    "# Here we are using ~ invert operator.It will take values which are not allowed.All this values are in mask series.\n",
    "# Now we are using df.loc to replace all mask values with csv.\n",
    "mask = ~df['Type_of_file'].isin(list_direct)\n",
    "df.loc[mask, 'Type_of_file'] = 'CSV'"
   ]
  },
  {
   "cell_type": "code",
   "execution_count": 41,
   "id": "e1331627",
   "metadata": {},
   "outputs": [
    {
     "data": {
      "text/plain": [
       "array(['CSV', 'other', 'JSON', 'SQLITE', 'BigQuer', nan], dtype=object)"
      ]
     },
     "execution_count": 41,
     "metadata": {},
     "output_type": "execute_result"
    }
   ],
   "source": [
    "df.Type_of_file.unique()"
   ]
  },
  {
   "cell_type": "code",
   "execution_count": 42,
   "id": "e411368d",
   "metadata": {
    "scrolled": false
   },
   "outputs": [
    {
     "data": {
      "text/html": [
       "<div>\n",
       "<style scoped>\n",
       "    .dataframe tbody tr th:only-of-type {\n",
       "        vertical-align: middle;\n",
       "    }\n",
       "\n",
       "    .dataframe tbody tr th {\n",
       "        vertical-align: top;\n",
       "    }\n",
       "\n",
       "    .dataframe thead th {\n",
       "        text-align: right;\n",
       "    }\n",
       "</style>\n",
       "<table border=\"1\" class=\"dataframe\">\n",
       "  <thead>\n",
       "    <tr style=\"text-align: right;\">\n",
       "      <th></th>\n",
       "      <th>Dataset_name</th>\n",
       "      <th>Author_name</th>\n",
       "      <th>Author_id</th>\n",
       "      <th>No_of_files</th>\n",
       "      <th>size</th>\n",
       "      <th>Type_of_file</th>\n",
       "      <th>Upvotes</th>\n",
       "      <th>Medals</th>\n",
       "      <th>Usability</th>\n",
       "      <th>Date</th>\n",
       "      <th>Day</th>\n",
       "      <th>Time</th>\n",
       "      <th>Year</th>\n",
       "      <th>Month</th>\n",
       "    </tr>\n",
       "  </thead>\n",
       "  <tbody>\n",
       "    <tr>\n",
       "      <th>0</th>\n",
       "      <td>Hotel Reservations Dataset</td>\n",
       "      <td>Ahsan Raza</td>\n",
       "      <td>https://www.kaggle.com/ahsan81</td>\n",
       "      <td>1.0</td>\n",
       "      <td>491 kB</td>\n",
       "      <td>CSV</td>\n",
       "      <td>315</td>\n",
       "      <td>Silver</td>\n",
       "      <td>10.0</td>\n",
       "      <td>2023-01-04</td>\n",
       "      <td>Wed</td>\n",
       "      <td>18:20:31</td>\n",
       "      <td>2023</td>\n",
       "      <td>1</td>\n",
       "    </tr>\n",
       "    <tr>\n",
       "      <th>1</th>\n",
       "      <td>MusicCaps</td>\n",
       "      <td>Google Research</td>\n",
       "      <td>NaN</td>\n",
       "      <td>1.0</td>\n",
       "      <td>812 kB</td>\n",
       "      <td>CSV</td>\n",
       "      <td>188</td>\n",
       "      <td>Silver</td>\n",
       "      <td>9.4</td>\n",
       "      <td>2023-01-25</td>\n",
       "      <td>Wed</td>\n",
       "      <td>14:55:48</td>\n",
       "      <td>2023</td>\n",
       "      <td>1</td>\n",
       "    </tr>\n",
       "    <tr>\n",
       "      <th>2</th>\n",
       "      <td>Most Subscribed 1000 Youtube Channels</td>\n",
       "      <td>Mrityunjay Pathak</td>\n",
       "      <td>https://www.kaggle.com/themrityunjaypathak</td>\n",
       "      <td>1.0</td>\n",
       "      <td>29 kB</td>\n",
       "      <td>CSV</td>\n",
       "      <td>76</td>\n",
       "      <td>Bronze</td>\n",
       "      <td>10.0</td>\n",
       "      <td>2023-01-21</td>\n",
       "      <td>Sat</td>\n",
       "      <td>20:12:05</td>\n",
       "      <td>2023</td>\n",
       "      <td>1</td>\n",
       "    </tr>\n",
       "    <tr>\n",
       "      <th>3</th>\n",
       "      <td>Olympics 124 years Dataset(till 2020)</td>\n",
       "      <td>Nitish Sharma01</td>\n",
       "      <td>https://www.kaggle.com/nitishsharma01</td>\n",
       "      <td>3.0</td>\n",
       "      <td>5 MB</td>\n",
       "      <td>CSV</td>\n",
       "      <td>30</td>\n",
       "      <td>Bronze</td>\n",
       "      <td>10.0</td>\n",
       "      <td>2023-02-01</td>\n",
       "      <td>Wed</td>\n",
       "      <td>14:30:49</td>\n",
       "      <td>2023</td>\n",
       "      <td>2</td>\n",
       "    </tr>\n",
       "    <tr>\n",
       "      <th>4</th>\n",
       "      <td>Medical Student Mental Health</td>\n",
       "      <td>The Devastator</td>\n",
       "      <td>https://www.kaggle.com/thedevastator</td>\n",
       "      <td>2.0</td>\n",
       "      <td>19 kB</td>\n",
       "      <td>CSV</td>\n",
       "      <td>37</td>\n",
       "      <td>Bronze</td>\n",
       "      <td>10.0</td>\n",
       "      <td>2023-01-25</td>\n",
       "      <td>Wed</td>\n",
       "      <td>06:30:14</td>\n",
       "      <td>2023</td>\n",
       "      <td>1</td>\n",
       "    </tr>\n",
       "  </tbody>\n",
       "</table>\n",
       "</div>"
      ],
      "text/plain": [
       "                            Dataset_name        Author_name  \\\n",
       "0             Hotel Reservations Dataset         Ahsan Raza   \n",
       "1                              MusicCaps    Google Research   \n",
       "2  Most Subscribed 1000 Youtube Channels  Mrityunjay Pathak   \n",
       "3  Olympics 124 years Dataset(till 2020)    Nitish Sharma01   \n",
       "4          Medical Student Mental Health     The Devastator   \n",
       "\n",
       "                                    Author_id  No_of_files    size  \\\n",
       "0              https://www.kaggle.com/ahsan81          1.0  491 kB   \n",
       "1                                         NaN          1.0  812 kB   \n",
       "2  https://www.kaggle.com/themrityunjaypathak          1.0   29 kB   \n",
       "3       https://www.kaggle.com/nitishsharma01          3.0    5 MB   \n",
       "4        https://www.kaggle.com/thedevastator          2.0   19 kB   \n",
       "\n",
       "  Type_of_file  Upvotes  Medals  Usability       Date  Day      Time  Year  \\\n",
       "0          CSV      315  Silver       10.0 2023-01-04  Wed  18:20:31  2023   \n",
       "1          CSV      188  Silver        9.4 2023-01-25  Wed  14:55:48  2023   \n",
       "2          CSV       76  Bronze       10.0 2023-01-21  Sat  20:12:05  2023   \n",
       "3          CSV       30  Bronze       10.0 2023-02-01  Wed  14:30:49  2023   \n",
       "4          CSV       37  Bronze       10.0 2023-01-25  Wed  06:30:14  2023   \n",
       "\n",
       "   Month  \n",
       "0      1  \n",
       "1      1  \n",
       "2      1  \n",
       "3      2  \n",
       "4      1  "
      ]
     },
     "execution_count": 42,
     "metadata": {},
     "output_type": "execute_result"
    }
   ],
   "source": [
    "df.head()"
   ]
  },
  {
   "cell_type": "markdown",
   "id": "13c24b28",
   "metadata": {},
   "source": [
    "## Data Visualization"
   ]
  },
  {
   "cell_type": "code",
   "execution_count": 43,
   "id": "1300430e",
   "metadata": {},
   "outputs": [],
   "source": [
    "df_year=df['Year'].value_counts().reset_index().rename(columns={'index':'Year','Year':'Count_of_Dataset'})"
   ]
  },
  {
   "cell_type": "code",
   "execution_count": 44,
   "id": "dcb68fb6",
   "metadata": {
    "scrolled": false
   },
   "outputs": [
    {
     "data": {
      "text/plain": [
       "Text(0, 0.5, 'Counts')"
      ]
     },
     "execution_count": 44,
     "metadata": {},
     "output_type": "execute_result"
    },
    {
     "data": {
      "image/png": "[encoded data removed]",
      "text/plain": [
       "<Figure size 864x432 with 1 Axes>"
      ]
     },
     "metadata": {
      "needs_background": "light"
     },
     "output_type": "display_data"
    }
   ],
   "source": [
    "ax=df_year.set_index('Year').plot(kind='bar',figsize=(12,6),color='red')\n",
    "plt.title(\"Year wise dataset counts\")\n",
    "for i,v in enumerate(df_year['Count_of_Dataset'].values):\n",
    "    ax.text(i,v,str(v),color='black',fontweight='bold',ha='center')\n",
    "plt.ylabel('Counts')"
   ]
  },
  {
   "cell_type": "code",
   "execution_count": 45,
   "id": "1d45ffd3",
   "metadata": {},
   "outputs": [
    {
     "data": {
      "text/plain": [
       "<AxesSubplot:ylabel='Dataset_name'>"
      ]
     },
     "execution_count": 45,
     "metadata": {},
     "output_type": "execute_result"
    },
    {
     "data": {
      "image/png": "[encoded data removed]",
      "text/plain": [
       "<Figure size 720x1080 with 1 Axes>"
      ]
     },
     "metadata": {},
     "output_type": "display_data"
    }
   ],
   "source": [
    "df.groupby('Type_of_file')['Dataset_name'].count().plot(kind='pie',figsize=(10,15),autopct='%1.1f%%')"
   ]
  },
  {
   "cell_type": "code",
   "execution_count": 46,
   "id": "0579831b",
   "metadata": {},
   "outputs": [],
   "source": [
    "df_new=df[['Dataset_name','Upvotes']].sort_values(by='Upvotes',ascending=False)[:10]"
   ]
  },
  {
   "cell_type": "markdown",
   "id": "dba0db70",
   "metadata": {},
   "source": [
    "## Top 10 Dataset names with highest upvotes"
   ]
  },
  {
   "cell_type": "code",
   "execution_count": 47,
   "id": "9e04b77f",
   "metadata": {},
   "outputs": [
    {
     "data": {
      "text/html": [
       "<div>\n",
       "<style scoped>\n",
       "    .dataframe tbody tr th:only-of-type {\n",
       "        vertical-align: middle;\n",
       "    }\n",
       "\n",
       "    .dataframe tbody tr th {\n",
       "        vertical-align: top;\n",
       "    }\n",
       "\n",
       "    .dataframe thead th {\n",
       "        text-align: right;\n",
       "    }\n",
       "</style>\n",
       "<table border=\"1\" class=\"dataframe\">\n",
       "  <thead>\n",
       "    <tr style=\"text-align: right;\">\n",
       "      <th></th>\n",
       "      <th>Dataset_name</th>\n",
       "      <th>Upvotes</th>\n",
       "    </tr>\n",
       "  </thead>\n",
       "  <tbody>\n",
       "    <tr>\n",
       "      <th>0</th>\n",
       "      <td>Animal Crossing New Horizons Catalog</td>\n",
       "      <td>27619</td>\n",
       "    </tr>\n",
       "    <tr>\n",
       "      <th>1</th>\n",
       "      <td>COVID-19 Open Research Dataset Challenge (CORD...</td>\n",
       "      <td>10281</td>\n",
       "    </tr>\n",
       "    <tr>\n",
       "      <th>2</th>\n",
       "      <td>Credit Card Fraud Detection</td>\n",
       "      <td>9804</td>\n",
       "    </tr>\n",
       "    <tr>\n",
       "      <th>3</th>\n",
       "      <td>Netflix Movies and TV Shows</td>\n",
       "      <td>7199</td>\n",
       "    </tr>\n",
       "    <tr>\n",
       "      <th>4</th>\n",
       "      <td>Novel Corona Virus 2019 Dataset</td>\n",
       "      <td>5934</td>\n",
       "    </tr>\n",
       "    <tr>\n",
       "      <th>5</th>\n",
       "      <td>Chest X-Ray Images (Pneumonia)</td>\n",
       "      <td>5490</td>\n",
       "    </tr>\n",
       "    <tr>\n",
       "      <th>6</th>\n",
       "      <td>Video Game Sales</td>\n",
       "      <td>5023</td>\n",
       "    </tr>\n",
       "    <tr>\n",
       "      <th>7</th>\n",
       "      <td>Trending YouTube Video Statistics</td>\n",
       "      <td>4866</td>\n",
       "    </tr>\n",
       "    <tr>\n",
       "      <th>8</th>\n",
       "      <td>Data Science Cheat Sheets</td>\n",
       "      <td>4311</td>\n",
       "    </tr>\n",
       "    <tr>\n",
       "      <th>9</th>\n",
       "      <td>Google Play Store Apps</td>\n",
       "      <td>4299</td>\n",
       "    </tr>\n",
       "  </tbody>\n",
       "</table>\n",
       "</div>"
      ],
      "text/plain": [
       "                                        Dataset_name  Upvotes\n",
       "0               Animal Crossing New Horizons Catalog    27619\n",
       "1  COVID-19 Open Research Dataset Challenge (CORD...    10281\n",
       "2                        Credit Card Fraud Detection     9804\n",
       "3                        Netflix Movies and TV Shows     7199\n",
       "4                    Novel Corona Virus 2019 Dataset     5934\n",
       "5                     Chest X-Ray Images (Pneumonia)     5490\n",
       "6                                   Video Game Sales     5023\n",
       "7                  Trending YouTube Video Statistics     4866\n",
       "8                          Data Science Cheat Sheets     4311\n",
       "9                             Google Play Store Apps     4299"
      ]
     },
     "execution_count": 47,
     "metadata": {},
     "output_type": "execute_result"
    }
   ],
   "source": [
    "df_new.reset_index().drop(['index'],axis=1)"
   ]
  },
  {
   "cell_type": "code",
   "execution_count": 48,
   "id": "5ca9da95",
   "metadata": {
    "scrolled": false
   },
   "outputs": [
    {
     "data": {
      "text/plain": [
       "Text(0, 0.5, 'Upvotes')"
      ]
     },
     "execution_count": 48,
     "metadata": {},
     "output_type": "execute_result"
    },
    {
     "data": {
      "image/png": "[encoded data removed]",
      "text/plain": [
       "<Figure size 864x720 with 1 Axes>"
      ]
     },
     "metadata": {
      "needs_background": "light"
     },
     "output_type": "display_data"
    }
   ],
   "source": [
    "ax=df[['Dataset_name','Upvotes']].set_index('Dataset_name').sort_values(by='Upvotes',ascending=False)[:10].plot(kind='bar',figsize=(12,10),color='green')\n",
    "for i, v in enumerate(df['Upvotes'].sort_values(ascending=False).values[:10]):\n",
    "    ax.text(i, v, str(v), color='black', fontweight='bold', ha='center')\n",
    "plt.ylabel('Upvotes')"
   ]
  },
  {
   "cell_type": "code",
   "execution_count": 49,
   "id": "b6610eea",
   "metadata": {
    "scrolled": false
   },
   "outputs": [
    {
     "data": {
      "text/plain": [
       "Upvotes\n",
       "0        419\n",
       "1        784\n",
       "2        253\n",
       "3        252\n",
       "4        262\n",
       "        ... \n",
       "5934       1\n",
       "7199       1\n",
       "9804       1\n",
       "10281      1\n",
       "27619      1\n",
       "Name: Dataset_name, Length: 648, dtype: int64"
      ]
     },
     "execution_count": 49,
     "metadata": {},
     "output_type": "execute_result"
    }
   ],
   "source": [
    "## This will give u count of dataset that which dataset has how much of usability.\n",
    "df.groupby('Upvotes')['Dataset_name'].count()"
   ]
  },
  {
   "cell_type": "markdown",
   "id": "bf44f768",
   "metadata": {},
   "source": [
    "## Top 10 Dataset with highest No.of.Files"
   ]
  },
  {
   "cell_type": "code",
   "execution_count": 50,
   "id": "47390815",
   "metadata": {},
   "outputs": [
    {
     "data": {
      "text/html": [
       "<div>\n",
       "<style scoped>\n",
       "    .dataframe tbody tr th:only-of-type {\n",
       "        vertical-align: middle;\n",
       "    }\n",
       "\n",
       "    .dataframe tbody tr th {\n",
       "        vertical-align: top;\n",
       "    }\n",
       "\n",
       "    .dataframe thead th {\n",
       "        text-align: right;\n",
       "    }\n",
       "</style>\n",
       "<table border=\"1\" class=\"dataframe\">\n",
       "  <thead>\n",
       "    <tr style=\"text-align: right;\">\n",
       "      <th></th>\n",
       "      <th>No_of_files</th>\n",
       "    </tr>\n",
       "    <tr>\n",
       "      <th>Dataset_name</th>\n",
       "      <th></th>\n",
       "    </tr>\n",
       "  </thead>\n",
       "  <tbody>\n",
       "    <tr>\n",
       "      <th>Handwritten Chinese Character (Hanzi) Datasets</th>\n",
       "      <td>3999566.0</td>\n",
       "    </tr>\n",
       "    <tr>\n",
       "      <th>UCF Crime Dataset</th>\n",
       "      <td>1377653.0</td>\n",
       "    </tr>\n",
       "    <tr>\n",
       "      <th>Fruits-262</th>\n",
       "      <td>1353844.0</td>\n",
       "    </tr>\n",
       "    <tr>\n",
       "      <th>Instagram Images - 1,211,625 posts</th>\n",
       "      <td>1211663.0</td>\n",
       "    </tr>\n",
       "    <tr>\n",
       "      <th>CelebA Spoof For Face AntiSpoofing</th>\n",
       "      <td>1123166.0</td>\n",
       "    </tr>\n",
       "    <tr>\n",
       "      <th>HandWritten_Character</th>\n",
       "      <td>856560.0</td>\n",
       "    </tr>\n",
       "    <tr>\n",
       "      <th>RSNA Mammo PNGs 256px, 384px, 512px, 768px, 1024px</th>\n",
       "      <td>765883.0</td>\n",
       "    </tr>\n",
       "    <tr>\n",
       "      <th>uTHCD-Unconstrained Tamil Handwritten Database</th>\n",
       "      <td>727612.0</td>\n",
       "    </tr>\n",
       "    <tr>\n",
       "      <th>COVID-19 Open Research Dataset Challenge (CORD-19)</th>\n",
       "      <td>717120.0</td>\n",
       "    </tr>\n",
       "    <tr>\n",
       "      <th>RSNA Fracture Detection</th>\n",
       "      <td>711607.0</td>\n",
       "    </tr>\n",
       "  </tbody>\n",
       "</table>\n",
       "</div>"
      ],
      "text/plain": [
       "                                                    No_of_files\n",
       "Dataset_name                                                   \n",
       "Handwritten Chinese Character (Hanzi) Datasets        3999566.0\n",
       "UCF Crime Dataset                                     1377653.0\n",
       "Fruits-262                                            1353844.0\n",
       "Instagram Images - 1,211,625 posts                    1211663.0\n",
       "CelebA Spoof For Face AntiSpoofing                    1123166.0\n",
       "HandWritten_Character                                  856560.0\n",
       "RSNA Mammo PNGs 256px, 384px, 512px, 768px, 1024px     765883.0\n",
       "uTHCD-Unconstrained Tamil Handwritten Database         727612.0\n",
       "COVID-19 Open Research Dataset Challenge (CORD-19)     717120.0\n",
       "RSNA Fracture Detection                                711607.0"
      ]
     },
     "execution_count": 50,
     "metadata": {},
     "output_type": "execute_result"
    }
   ],
   "source": [
    "df[['Dataset_name','No_of_files']].sort_values(by='No_of_files',ascending=False)[:10].reset_index().drop(['index'],axis=1).set_index('Dataset_name')"
   ]
  },
  {
   "cell_type": "code",
   "execution_count": 51,
   "id": "638d65c3",
   "metadata": {
    "scrolled": true
   },
   "outputs": [
    {
     "data": {
      "text/plain": [
       "<AxesSubplot:ylabel='Dataset_name'>"
      ]
     },
     "execution_count": 51,
     "metadata": {},
     "output_type": "execute_result"
    },
    {
     "data": {
      "image/png": "[encoded data removed]",
      "text/plain": [
       "<Figure size 360x360 with 1 Axes>"
      ]
     },
     "metadata": {
      "needs_background": "light"
     },
     "output_type": "display_data"
    }
   ],
   "source": [
    "df[['Dataset_name','No_of_files']].sort_values(by='No_of_files',ascending=False)[:10].reset_index().drop(['index'],axis=1).set_index('Dataset_name').plot(kind='barh',figsize=(5,5))"
   ]
  },
  {
   "cell_type": "code",
   "execution_count": 52,
   "id": "dd2400ef",
   "metadata": {
    "scrolled": true
   },
   "outputs": [
    {
     "data": {
      "text/html": [
       "<div>\n",
       "<style scoped>\n",
       "    .dataframe tbody tr th:only-of-type {\n",
       "        vertical-align: middle;\n",
       "    }\n",
       "\n",
       "    .dataframe tbody tr th {\n",
       "        vertical-align: top;\n",
       "    }\n",
       "\n",
       "    .dataframe thead th {\n",
       "        text-align: right;\n",
       "    }\n",
       "</style>\n",
       "<table border=\"1\" class=\"dataframe\">\n",
       "  <thead>\n",
       "    <tr style=\"text-align: right;\">\n",
       "      <th></th>\n",
       "      <th>Usability_count</th>\n",
       "    </tr>\n",
       "    <tr>\n",
       "      <th>Usability</th>\n",
       "      <th></th>\n",
       "    </tr>\n",
       "  </thead>\n",
       "  <tbody>\n",
       "    <tr>\n",
       "      <th>10.0</th>\n",
       "      <td>2370</td>\n",
       "    </tr>\n",
       "    <tr>\n",
       "      <th>9.4</th>\n",
       "      <td>1190</td>\n",
       "    </tr>\n",
       "    <tr>\n",
       "      <th>8.8</th>\n",
       "      <td>740</td>\n",
       "    </tr>\n",
       "    <tr>\n",
       "      <th>8.2</th>\n",
       "      <td>557</td>\n",
       "    </tr>\n",
       "    <tr>\n",
       "      <th>7.1</th>\n",
       "      <td>449</td>\n",
       "    </tr>\n",
       "    <tr>\n",
       "      <th>7.6</th>\n",
       "      <td>381</td>\n",
       "    </tr>\n",
       "    <tr>\n",
       "      <th>1.8</th>\n",
       "      <td>268</td>\n",
       "    </tr>\n",
       "    <tr>\n",
       "      <th>7.5</th>\n",
       "      <td>264</td>\n",
       "    </tr>\n",
       "    <tr>\n",
       "      <th>6.5</th>\n",
       "      <td>254</td>\n",
       "    </tr>\n",
       "    <tr>\n",
       "      <th>9.7</th>\n",
       "      <td>252</td>\n",
       "    </tr>\n",
       "    <tr>\n",
       "      <th>5.9</th>\n",
       "      <td>249</td>\n",
       "    </tr>\n",
       "    <tr>\n",
       "      <th>2.9</th>\n",
       "      <td>247</td>\n",
       "    </tr>\n",
       "    <tr>\n",
       "      <th>1.9</th>\n",
       "      <td>200</td>\n",
       "    </tr>\n",
       "    <tr>\n",
       "      <th>3.1</th>\n",
       "      <td>192</td>\n",
       "    </tr>\n",
       "    <tr>\n",
       "      <th>9.1</th>\n",
       "      <td>169</td>\n",
       "    </tr>\n",
       "    <tr>\n",
       "      <th>8.1</th>\n",
       "      <td>163</td>\n",
       "    </tr>\n",
       "    <tr>\n",
       "      <th>4.4</th>\n",
       "      <td>153</td>\n",
       "    </tr>\n",
       "    <tr>\n",
       "      <th>5.3</th>\n",
       "      <td>152</td>\n",
       "    </tr>\n",
       "    <tr>\n",
       "      <th>8.5</th>\n",
       "      <td>144</td>\n",
       "    </tr>\n",
       "    <tr>\n",
       "      <th>4.1</th>\n",
       "      <td>132</td>\n",
       "    </tr>\n",
       "    <tr>\n",
       "      <th>4.7</th>\n",
       "      <td>124</td>\n",
       "    </tr>\n",
       "    <tr>\n",
       "      <th>6.3</th>\n",
       "      <td>121</td>\n",
       "    </tr>\n",
       "    <tr>\n",
       "      <th>2.5</th>\n",
       "      <td>117</td>\n",
       "    </tr>\n",
       "    <tr>\n",
       "      <th>3.8</th>\n",
       "      <td>113</td>\n",
       "    </tr>\n",
       "    <tr>\n",
       "      <th>2.4</th>\n",
       "      <td>112</td>\n",
       "    </tr>\n",
       "    <tr>\n",
       "      <th>3.5</th>\n",
       "      <td>109</td>\n",
       "    </tr>\n",
       "    <tr>\n",
       "      <th>6.9</th>\n",
       "      <td>106</td>\n",
       "    </tr>\n",
       "    <tr>\n",
       "      <th>5.6</th>\n",
       "      <td>104</td>\n",
       "    </tr>\n",
       "    <tr>\n",
       "      <th>5.0</th>\n",
       "      <td>97</td>\n",
       "    </tr>\n",
       "    <tr>\n",
       "      <th>0.0</th>\n",
       "      <td>88</td>\n",
       "    </tr>\n",
       "    <tr>\n",
       "      <th>1.2</th>\n",
       "      <td>78</td>\n",
       "    </tr>\n",
       "    <tr>\n",
       "      <th>7.9</th>\n",
       "      <td>71</td>\n",
       "    </tr>\n",
       "    <tr>\n",
       "      <th>7.4</th>\n",
       "      <td>63</td>\n",
       "    </tr>\n",
       "    <tr>\n",
       "      <th>1.3</th>\n",
       "      <td>63</td>\n",
       "    </tr>\n",
       "    <tr>\n",
       "      <th>0.6</th>\n",
       "      <td>32</td>\n",
       "    </tr>\n",
       "    <tr>\n",
       "      <th>6.8</th>\n",
       "      <td>30</td>\n",
       "    </tr>\n",
       "    <tr>\n",
       "      <th>6.2</th>\n",
       "      <td>15</td>\n",
       "    </tr>\n",
       "    <tr>\n",
       "      <th>2.6</th>\n",
       "      <td>1</td>\n",
       "    </tr>\n",
       "  </tbody>\n",
       "</table>\n",
       "</div>"
      ],
      "text/plain": [
       "           Usability_count\n",
       "Usability                 \n",
       "10.0                  2370\n",
       "9.4                   1190\n",
       "8.8                    740\n",
       "8.2                    557\n",
       "7.1                    449\n",
       "7.6                    381\n",
       "1.8                    268\n",
       "7.5                    264\n",
       "6.5                    254\n",
       "9.7                    252\n",
       "5.9                    249\n",
       "2.9                    247\n",
       "1.9                    200\n",
       "3.1                    192\n",
       "9.1                    169\n",
       "8.1                    163\n",
       "4.4                    153\n",
       "5.3                    152\n",
       "8.5                    144\n",
       "4.1                    132\n",
       "4.7                    124\n",
       "6.3                    121\n",
       "2.5                    117\n",
       "3.8                    113\n",
       "2.4                    112\n",
       "3.5                    109\n",
       "6.9                    106\n",
       "5.6                    104\n",
       "5.0                     97\n",
       "0.0                     88\n",
       "1.2                     78\n",
       "7.9                     71\n",
       "7.4                     63\n",
       "1.3                     63\n",
       "0.6                     32\n",
       "6.8                     30\n",
       "6.2                     15\n",
       "2.6                      1"
      ]
     },
     "execution_count": 52,
     "metadata": {},
     "output_type": "execute_result"
    }
   ],
   "source": [
    "df['Usability'].value_counts().reset_index().rename(columns={'index':'Usability','Usability':'Usability_count'}).set_index('Usability')"
   ]
  },
  {
   "cell_type": "code",
   "execution_count": 53,
   "id": "8470e90a",
   "metadata": {},
   "outputs": [
    {
     "data": {
      "text/html": [
       "<div>\n",
       "<style scoped>\n",
       "    .dataframe tbody tr th:only-of-type {\n",
       "        vertical-align: middle;\n",
       "    }\n",
       "\n",
       "    .dataframe tbody tr th {\n",
       "        vertical-align: top;\n",
       "    }\n",
       "\n",
       "    .dataframe thead th {\n",
       "        text-align: right;\n",
       "    }\n",
       "</style>\n",
       "<table border=\"1\" class=\"dataframe\">\n",
       "  <thead>\n",
       "    <tr style=\"text-align: right;\">\n",
       "      <th></th>\n",
       "      <th>Dataset_name</th>\n",
       "      <th>Author_name</th>\n",
       "      <th>Author_id</th>\n",
       "      <th>No_of_files</th>\n",
       "      <th>size</th>\n",
       "      <th>Type_of_file</th>\n",
       "      <th>Upvotes</th>\n",
       "      <th>Medals</th>\n",
       "      <th>Usability</th>\n",
       "      <th>Date</th>\n",
       "      <th>Day</th>\n",
       "      <th>Time</th>\n",
       "      <th>Year</th>\n",
       "      <th>Month</th>\n",
       "    </tr>\n",
       "  </thead>\n",
       "  <tbody>\n",
       "    <tr>\n",
       "      <th>4218</th>\n",
       "      <td>sample-synthetic-healthcare</td>\n",
       "      <td>Tushar Aggarwal</td>\n",
       "      <td>https://www.kaggle.com/tusharaggarwal27</td>\n",
       "      <td>1.0</td>\n",
       "      <td>141 kB</td>\n",
       "      <td>CSV</td>\n",
       "      <td>20</td>\n",
       "      <td>NaN</td>\n",
       "      <td>2.6</td>\n",
       "      <td>2022-12-09</td>\n",
       "      <td>Fri</td>\n",
       "      <td>21:48:26</td>\n",
       "      <td>2022</td>\n",
       "      <td>12</td>\n",
       "    </tr>\n",
       "  </tbody>\n",
       "</table>\n",
       "</div>"
      ],
      "text/plain": [
       "                     Dataset_name      Author_name  \\\n",
       "4218  sample-synthetic-healthcare  Tushar Aggarwal   \n",
       "\n",
       "                                    Author_id  No_of_files    size  \\\n",
       "4218  https://www.kaggle.com/tusharaggarwal27          1.0  141 kB   \n",
       "\n",
       "     Type_of_file  Upvotes Medals  Usability       Date  Day      Time  Year  \\\n",
       "4218          CSV       20    NaN        2.6 2022-12-09  Fri  21:48:26  2022   \n",
       "\n",
       "      Month  \n",
       "4218     12  "
      ]
     },
     "execution_count": 53,
     "metadata": {},
     "output_type": "execute_result"
    }
   ],
   "source": [
    "## To check lowest usability dataset name\n",
    "df[df['Usability']==2.6]"
   ]
  },
  {
   "cell_type": "code",
   "execution_count": 54,
   "id": "210cc713",
   "metadata": {},
   "outputs": [
    {
     "data": {
      "text/plain": [
       "Text(0, 0.5, 'Usability_count')"
      ]
     },
     "execution_count": 54,
     "metadata": {},
     "output_type": "execute_result"
    },
    {
     "data": {
      "image/png": "[encoded data removed]",
      "text/plain": [
       "<Figure size 864x432 with 1 Axes>"
      ]
     },
     "metadata": {
      "needs_background": "light"
     },
     "output_type": "display_data"
    }
   ],
   "source": [
    "df['Usability'].value_counts().reset_index().rename(columns={'index':'Usability','Usability':'Usability_count'}).set_index('Usability').plot(kind='bar',figsize=(12,6),color='orange')\n",
    "plt.title('Usability Count of Dataset')\n",
    "plt.ylabel('Usability_count')"
   ]
  },
  {
   "cell_type": "code",
   "execution_count": 55,
   "id": "46f730ae",
   "metadata": {},
   "outputs": [
    {
     "data": {
      "text/html": [
       "<div>\n",
       "<style scoped>\n",
       "    .dataframe tbody tr th:only-of-type {\n",
       "        vertical-align: middle;\n",
       "    }\n",
       "\n",
       "    .dataframe tbody tr th {\n",
       "        vertical-align: top;\n",
       "    }\n",
       "\n",
       "    .dataframe thead th {\n",
       "        text-align: right;\n",
       "    }\n",
       "</style>\n",
       "<table border=\"1\" class=\"dataframe\">\n",
       "  <thead>\n",
       "    <tr style=\"text-align: right;\">\n",
       "      <th></th>\n",
       "      <th>Dataset_uploaded_count</th>\n",
       "    </tr>\n",
       "    <tr>\n",
       "      <th>Day</th>\n",
       "      <th></th>\n",
       "    </tr>\n",
       "  </thead>\n",
       "  <tbody>\n",
       "    <tr>\n",
       "      <th>Tue</th>\n",
       "      <td>1590</td>\n",
       "    </tr>\n",
       "    <tr>\n",
       "      <th>Thu</th>\n",
       "      <td>1495</td>\n",
       "    </tr>\n",
       "    <tr>\n",
       "      <th>Wed</th>\n",
       "      <td>1463</td>\n",
       "    </tr>\n",
       "    <tr>\n",
       "      <th>Mon</th>\n",
       "      <td>1426</td>\n",
       "    </tr>\n",
       "    <tr>\n",
       "      <th>Fri</th>\n",
       "      <td>1390</td>\n",
       "    </tr>\n",
       "    <tr>\n",
       "      <th>Sun</th>\n",
       "      <td>1372</td>\n",
       "    </tr>\n",
       "    <tr>\n",
       "      <th>Sat</th>\n",
       "      <td>1235</td>\n",
       "    </tr>\n",
       "  </tbody>\n",
       "</table>\n",
       "</div>"
      ],
      "text/plain": [
       "     Dataset_uploaded_count\n",
       "Day                        \n",
       "Tue                    1590\n",
       "Thu                    1495\n",
       "Wed                    1463\n",
       "Mon                    1426\n",
       "Fri                    1390\n",
       "Sun                    1372\n",
       "Sat                    1235"
      ]
     },
     "execution_count": 55,
     "metadata": {},
     "output_type": "execute_result"
    }
   ],
   "source": [
    "## Checking for dataset uploaded on which day.\n",
    "df.Day.value_counts().reset_index().rename(columns={'index':'Day','Day':'Dataset_uploaded_count'}).set_index('Day')"
   ]
  },
  {
   "cell_type": "code",
   "execution_count": 56,
   "id": "1c178102",
   "metadata": {},
   "outputs": [
    {
     "data": {
      "text/html": [
       "<div>\n",
       "<style scoped>\n",
       "    .dataframe tbody tr th:only-of-type {\n",
       "        vertical-align: middle;\n",
       "    }\n",
       "\n",
       "    .dataframe tbody tr th {\n",
       "        vertical-align: top;\n",
       "    }\n",
       "\n",
       "    .dataframe thead th {\n",
       "        text-align: right;\n",
       "    }\n",
       "</style>\n",
       "<table border=\"1\" class=\"dataframe\">\n",
       "  <thead>\n",
       "    <tr style=\"text-align: right;\">\n",
       "      <th></th>\n",
       "      <th>Medals_count</th>\n",
       "    </tr>\n",
       "    <tr>\n",
       "      <th>Medals</th>\n",
       "      <th></th>\n",
       "    </tr>\n",
       "  </thead>\n",
       "  <tbody>\n",
       "    <tr>\n",
       "      <th>Bronze</th>\n",
       "      <td>4059</td>\n",
       "    </tr>\n",
       "    <tr>\n",
       "      <th>Silver</th>\n",
       "      <td>1417</td>\n",
       "    </tr>\n",
       "    <tr>\n",
       "      <th>Gold</th>\n",
       "      <td>704</td>\n",
       "    </tr>\n",
       "  </tbody>\n",
       "</table>\n",
       "</div>"
      ],
      "text/plain": [
       "        Medals_count\n",
       "Medals              \n",
       "Bronze          4059\n",
       "Silver          1417\n",
       "Gold             704"
      ]
     },
     "execution_count": 56,
     "metadata": {},
     "output_type": "execute_result"
    }
   ],
   "source": [
    "## Checking for which medal is given to highest number of datasets\n",
    "df.Medals.value_counts().reset_index().rename(columns={'index':'Medals','Medals':'Medals_count'}).set_index('Medals')"
   ]
  },
  {
   "cell_type": "code",
   "execution_count": 57,
   "id": "99cfbde9",
   "metadata": {},
   "outputs": [
    {
     "data": {
      "text/html": [
       "<div>\n",
       "<style scoped>\n",
       "    .dataframe tbody tr th:only-of-type {\n",
       "        vertical-align: middle;\n",
       "    }\n",
       "\n",
       "    .dataframe tbody tr th {\n",
       "        vertical-align: top;\n",
       "    }\n",
       "\n",
       "    .dataframe thead th {\n",
       "        text-align: right;\n",
       "    }\n",
       "</style>\n",
       "<table border=\"1\" class=\"dataframe\">\n",
       "  <thead>\n",
       "    <tr style=\"text-align: right;\">\n",
       "      <th></th>\n",
       "      <th>Month_count</th>\n",
       "    </tr>\n",
       "    <tr>\n",
       "      <th>Month</th>\n",
       "      <th></th>\n",
       "    </tr>\n",
       "  </thead>\n",
       "  <tbody>\n",
       "    <tr>\n",
       "      <th>1</th>\n",
       "      <td>2091</td>\n",
       "    </tr>\n",
       "    <tr>\n",
       "      <th>12</th>\n",
       "      <td>1324</td>\n",
       "    </tr>\n",
       "    <tr>\n",
       "      <th>2</th>\n",
       "      <td>871</td>\n",
       "    </tr>\n",
       "    <tr>\n",
       "      <th>11</th>\n",
       "      <td>847</td>\n",
       "    </tr>\n",
       "    <tr>\n",
       "      <th>9</th>\n",
       "      <td>708</td>\n",
       "    </tr>\n",
       "    <tr>\n",
       "      <th>8</th>\n",
       "      <td>678</td>\n",
       "    </tr>\n",
       "    <tr>\n",
       "      <th>10</th>\n",
       "      <td>655</td>\n",
       "    </tr>\n",
       "    <tr>\n",
       "      <th>7</th>\n",
       "      <td>634</td>\n",
       "    </tr>\n",
       "    <tr>\n",
       "      <th>6</th>\n",
       "      <td>582</td>\n",
       "    </tr>\n",
       "    <tr>\n",
       "      <th>5</th>\n",
       "      <td>534</td>\n",
       "    </tr>\n",
       "    <tr>\n",
       "      <th>3</th>\n",
       "      <td>533</td>\n",
       "    </tr>\n",
       "    <tr>\n",
       "      <th>4</th>\n",
       "      <td>514</td>\n",
       "    </tr>\n",
       "  </tbody>\n",
       "</table>\n",
       "</div>"
      ],
      "text/plain": [
       "       Month_count\n",
       "Month             \n",
       "1             2091\n",
       "12            1324\n",
       "2              871\n",
       "11             847\n",
       "9              708\n",
       "8              678\n",
       "10             655\n",
       "7              634\n",
       "6              582\n",
       "5              534\n",
       "3              533\n",
       "4              514"
      ]
     },
     "execution_count": 57,
     "metadata": {},
     "output_type": "execute_result"
    }
   ],
   "source": [
    "## Checking for dataset uploaded on which month.\n",
    "df.Month.value_counts().reset_index().rename(columns={'index':'Month','Month':'Month_count'}).set_index('Month')"
   ]
  },
  {
   "cell_type": "code",
   "execution_count": 58,
   "id": "7bbfaee4",
   "metadata": {},
   "outputs": [
    {
     "data": {
      "text/plain": [
       "The Devastator               504\n",
       "Arunodhayan                   58\n",
       "Larxel                        57\n",
       "Devrim Tuncer                 47\n",
       "Miolovers                     43\n",
       "                            ... \n",
       "lytic                          1\n",
       "Gabriel Dennis                 1\n",
       "Ariful Ambia                   1\n",
       "Christoforos Christoforou      1\n",
       "miwojc                         1\n",
       "Name: Author_name, Length: 5409, dtype: int64"
      ]
     },
     "execution_count": 58,
     "metadata": {},
     "output_type": "execute_result"
    }
   ],
   "source": [
    "df[\"Author_name\"].value_counts()"
   ]
  },
  {
   "cell_type": "markdown",
   "id": "0311a1dd",
   "metadata": {},
   "source": [
    "# Insights\n",
    "\n",
    "1. There are around 9971 rows and 14 columns in dataset.\n",
    "2. First of all we check in which year most of dataset was uploaded on kaggle.In year 2022, around 2808 dataset was uploaded\n",
    "3. There are 5 types of unique file types are there. From which 75.4% of dataset have CSV filetype and lowest 0.2% of filetype are of SQLITE.\n",
    "4. Animal Crossing New Horizons Catalog is one of the dataset name having highest number of Upvotes leading with 27619 votes.\n",
    "5. Around 419 datasets are there which have 0 upvotes.\n",
    "6. Handwritten Chinese Character (Hanzi) Datasets have 39,99,566 no of files.\n",
    "7. Almost 2370 dataset are having usability scale 10/10. Only 1 dataset having 2.6 scale out of 10.\n",
    "8. sample-synthetic-healthcare dataset is the only dataset which have 2.6 Usability scale out of 10.\n",
    "9. Tuesday is the day where around 1590 dataset has uploaded.\n",
    "10. Bronze Medal is given to 4059 no of datasets. While Silver has given to 1417 and Gold has given to 704 datasets.\n",
    "11. Most of the dataset are uploaded in Jan month.\n",
    "12. Author The Devastator has uploaded 504 datasets."
   ]
  },
  {
   "cell_type": "code",
   "execution_count": null,
   "id": "5a48a59c",
   "metadata": {},
   "outputs": [],
   "source": []
  }
 ],
 "metadata": {
  "kernelspec": {
   "display_name": "Python 3 (ipykernel)",
   "language": "python",
   "name": "python3"
  },
  "language_info": {
   "codemirror_mode": {
    "name": "ipython",
    "version": 3
   },
   "file_extension": ".py",
   "mimetype": "text/x-python",
   "name": "python",
   "nbconvert_exporter": "python",
   "pygments_lexer": "ipython3",
   "version": "3.9.12"
  }
 },
 "nbformat": 4,
 "nbformat_minor": 5
}
